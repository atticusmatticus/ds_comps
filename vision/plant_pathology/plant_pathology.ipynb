{
 "cells": [
  {
   "cell_type": "markdown",
   "id": "848de155",
   "metadata": {},
   "source": [
    "# Plant Pathology Training Notebook"
   ]
  },
  {
   "cell_type": "code",
   "execution_count": 1,
   "id": "f9545a6a",
   "metadata": {},
   "outputs": [],
   "source": [
    "from fastai.vision.all import *\n",
    "%config Completer.use_jedi = False"
   ]
  },
  {
   "cell_type": "markdown",
   "id": "67c64ed5",
   "metadata": {},
   "source": [
    "Set hyperparameters for the notebook here:"
   ]
  },
  {
   "cell_type": "code",
   "execution_count": 2,
   "id": "30e760bf",
   "metadata": {},
   "outputs": [],
   "source": [
    "# Hyperparameters\n",
    "valid_pct = 0.2"
   ]
  },
  {
   "cell_type": "code",
   "execution_count": 3,
   "id": "f281b268",
   "metadata": {},
   "outputs": [
    {
     "data": {
      "text/plain": [
       "(#5) [Path('/media/xar/barracuda1/fast.ai/data/plant_pathology/train_images'),Path('/media/xar/barracuda1/fast.ai/data/plant_pathology/test_images'),Path('/media/xar/barracuda1/fast.ai/data/plant_pathology/sample_submission.csv'),Path('/media/xar/barracuda1/fast.ai/data/plant_pathology/plant-pathology-2021-fgvc8.zip'),Path('/media/xar/barracuda1/fast.ai/data/plant_pathology/train.csv')]"
      ]
     },
     "execution_count": 3,
     "metadata": {},
     "output_type": "execute_result"
    }
   ],
   "source": [
    "path = Path('/media/xar/barracuda1/fast.ai/data/plant_pathology/')\n",
    "path.ls()"
   ]
  },
  {
   "cell_type": "code",
   "execution_count": 4,
   "id": "424d6bc8",
   "metadata": {},
   "outputs": [],
   "source": [
    "Path.BASE_PATH = path"
   ]
  },
  {
   "cell_type": "code",
   "execution_count": 5,
   "id": "619e531c",
   "metadata": {},
   "outputs": [
    {
     "data": {
      "text/plain": [
       "(#18632) [Path('train_images/d7707b87601e9721.jpg'),Path('train_images/f1c0918f0b1ff4d8.jpg'),Path('train_images/9fd08acafc84e664.jpg'),Path('train_images/d4eccc89612723b7.jpg'),Path('train_images/bc287d94706dd853.jpg'),Path('train_images/90fc3c90d72f05f4.jpg'),Path('train_images/b5d7d2cdcf0d0c04.jpg'),Path('train_images/e07485de9fbca409.jpg'),Path('train_images/a7b91490d7de5a82.jpg'),Path('train_images/dce254af368e2658.jpg')...]"
      ]
     },
     "execution_count": 5,
     "metadata": {},
     "output_type": "execute_result"
    }
   ],
   "source": [
    "(path/'train_images').ls()"
   ]
  },
  {
   "cell_type": "code",
   "execution_count": 6,
   "id": "0b6f7bff",
   "metadata": {},
   "outputs": [
    {
     "data": {
      "text/plain": [
       "(#3) [Path('test_images/c7b03e718489f3ca.jpg'),Path('test_images/85f8cb619c66b863.jpg'),Path('test_images/ad8770db05586b59.jpg')]"
      ]
     },
     "execution_count": 6,
     "metadata": {},
     "output_type": "execute_result"
    }
   ],
   "source": [
    "(path/'test_images').ls()"
   ]
  },
  {
   "cell_type": "markdown",
   "id": "6a8fc27e",
   "metadata": {},
   "source": [
    "The labels of the training images are in `train.csv` which has a space delimited list of labels for each image."
   ]
  },
  {
   "cell_type": "code",
   "execution_count": 7,
   "id": "faf201bd",
   "metadata": {},
   "outputs": [
    {
     "data": {
      "text/html": [
       "<div>\n",
       "<style scoped>\n",
       "    .dataframe tbody tr th:only-of-type {\n",
       "        vertical-align: middle;\n",
       "    }\n",
       "\n",
       "    .dataframe tbody tr th {\n",
       "        vertical-align: top;\n",
       "    }\n",
       "\n",
       "    .dataframe thead th {\n",
       "        text-align: right;\n",
       "    }\n",
       "</style>\n",
       "<table border=\"1\" class=\"dataframe\">\n",
       "  <thead>\n",
       "    <tr style=\"text-align: right;\">\n",
       "      <th></th>\n",
       "      <th>image</th>\n",
       "      <th>labels</th>\n",
       "    </tr>\n",
       "  </thead>\n",
       "  <tbody>\n",
       "    <tr>\n",
       "      <th>0</th>\n",
       "      <td>800113bb65efe69e.jpg</td>\n",
       "      <td>healthy</td>\n",
       "    </tr>\n",
       "    <tr>\n",
       "      <th>1</th>\n",
       "      <td>8002cb321f8bfcdf.jpg</td>\n",
       "      <td>scab frog_eye_leaf_spot complex</td>\n",
       "    </tr>\n",
       "    <tr>\n",
       "      <th>2</th>\n",
       "      <td>80070f7fb5e2ccaa.jpg</td>\n",
       "      <td>scab</td>\n",
       "    </tr>\n",
       "    <tr>\n",
       "      <th>3</th>\n",
       "      <td>80077517781fb94f.jpg</td>\n",
       "      <td>scab</td>\n",
       "    </tr>\n",
       "    <tr>\n",
       "      <th>4</th>\n",
       "      <td>800cbf0ff87721f8.jpg</td>\n",
       "      <td>complex</td>\n",
       "    </tr>\n",
       "    <tr>\n",
       "      <th>...</th>\n",
       "      <td>...</td>\n",
       "      <td>...</td>\n",
       "    </tr>\n",
       "    <tr>\n",
       "      <th>18627</th>\n",
       "      <td>fffb900a92289a33.jpg</td>\n",
       "      <td>healthy</td>\n",
       "    </tr>\n",
       "    <tr>\n",
       "      <th>18628</th>\n",
       "      <td>fffc488fa4c0e80c.jpg</td>\n",
       "      <td>scab</td>\n",
       "    </tr>\n",
       "    <tr>\n",
       "      <th>18629</th>\n",
       "      <td>fffc94e092a59086.jpg</td>\n",
       "      <td>rust</td>\n",
       "    </tr>\n",
       "    <tr>\n",
       "      <th>18630</th>\n",
       "      <td>fffe105cf6808292.jpg</td>\n",
       "      <td>scab frog_eye_leaf_spot</td>\n",
       "    </tr>\n",
       "    <tr>\n",
       "      <th>18631</th>\n",
       "      <td>fffe472a0001bd25.jpg</td>\n",
       "      <td>healthy</td>\n",
       "    </tr>\n",
       "  </tbody>\n",
       "</table>\n",
       "<p>18632 rows × 2 columns</p>\n",
       "</div>"
      ],
      "text/plain": [
       "                      image                           labels\n",
       "0      800113bb65efe69e.jpg                          healthy\n",
       "1      8002cb321f8bfcdf.jpg  scab frog_eye_leaf_spot complex\n",
       "2      80070f7fb5e2ccaa.jpg                             scab\n",
       "3      80077517781fb94f.jpg                             scab\n",
       "4      800cbf0ff87721f8.jpg                          complex\n",
       "...                     ...                              ...\n",
       "18627  fffb900a92289a33.jpg                          healthy\n",
       "18628  fffc488fa4c0e80c.jpg                             scab\n",
       "18629  fffc94e092a59086.jpg                             rust\n",
       "18630  fffe105cf6808292.jpg          scab frog_eye_leaf_spot\n",
       "18631  fffe472a0001bd25.jpg                          healthy\n",
       "\n",
       "[18632 rows x 2 columns]"
      ]
     },
     "execution_count": 7,
     "metadata": {},
     "output_type": "execute_result"
    }
   ],
   "source": [
    "df = pd.read_csv(path/'train.csv')\n",
    "df"
   ]
  },
  {
   "cell_type": "code",
   "execution_count": 8,
   "id": "449d00ac",
   "metadata": {},
   "outputs": [
    {
     "data": {
      "image/png": "[encoded data removed]",
      "text/plain": [
       "<Figure size 648x216 with 3 Axes>"
      ]
     },
     "metadata": {
      "needs_background": "light"
     },
     "output_type": "display_data"
    }
   ],
   "source": [
    "def get_x(df): return path/'train_images'/df['image']\n",
    "def get_y(df): return df['labels']\n",
    "\n",
    "dblock = DataBlock(\n",
    "    blocks=[ImageBlock, MultiCategoryBlock],\n",
    "    get_x=get_x,\n",
    "    get_y=get_y,\n",
    "    splitter=RandomSplitter(valid_pct=valid_pct, seed=42),\n",
    "    item_tfms=RandomResizedCrop(540, min_scale=0.35)\n",
    ")\n",
    "\n",
    "# dsets = dblock.datasets(df)\n",
    "# dsets.train[0]\n",
    "dls = dblock.dataloaders(df)\n",
    "dls.show_batch(nrows=1, ncols=3)"
   ]
  },
  {
   "cell_type": "code",
   "execution_count": 9,
   "id": "c374f8d5",
   "metadata": {
    "scrolled": true
   },
   "outputs": [
    {
     "name": "stderr",
     "output_type": "stream",
     "text": [
      "/media/xar/barracuda1/fast.ai/conda-lab3/lib/python3.8/site-packages/torch/nn/functional.py:718: UserWarning: Named tensors and all their associated APIs are an experimental feature and subject to change. Please do not use them for anything important until they are released as stable. (Triggered internally at  /opt/conda/conda-bld/pytorch_1623448278899/work/c10/core/TensorImpl.h:1156.)\n",
      "  return torch.max_pool2d(input, kernel_size, stride, padding, dilation, ceil_mode)\n"
     ]
    }
   ],
   "source": [
    "learn = cnn_learner(dls, arch=resnet18)"
   ]
  },
  {
   "cell_type": "code",
   "execution_count": 10,
   "id": "9e4b57d9",
   "metadata": {},
   "outputs": [
    {
     "data": {
      "text/plain": [
       "torch.Size([64, 22])"
      ]
     },
     "execution_count": 10,
     "metadata": {},
     "output_type": "execute_result"
    }
   ],
   "source": [
    "x,y = to_cpu(dls.train.one_batch())\n",
    "activations = learn.model(x)\n",
    "activations.shape"
   ]
  },
  {
   "cell_type": "code",
   "execution_count": 11,
   "id": "ae04ee62",
   "metadata": {},
   "outputs": [
    {
     "data": {
      "text/plain": [
       "tensor([-1.2504, -1.4272, -0.2237, -0.0391,  0.5841,  1.5716,  2.0874, -3.2066,\n",
       "         0.0137, -1.7217, -2.0701,  4.3085, -1.4371, -0.8242, -0.9938, -3.9682,\n",
       "         1.7073, -1.6764, -2.6033, -8.1278,  5.3463, -2.4389],\n",
       "       grad_fn=<SelectBackward>)"
      ]
     },
     "execution_count": 11,
     "metadata": {},
     "output_type": "execute_result"
    }
   ],
   "source": [
    "activations[0]"
   ]
  },
  {
   "cell_type": "code",
   "execution_count": 12,
   "id": "fe260cb5",
   "metadata": {},
   "outputs": [],
   "source": [
    "loss_func = nn.BCEWithLogitsLoss()"
   ]
  },
  {
   "cell_type": "code",
   "execution_count": 13,
   "id": "85eab464",
   "metadata": {},
   "outputs": [
    {
     "data": {
      "text/plain": [
       "TensorMultiCategory(1.0573, grad_fn=<AliasBackward>)"
      ]
     },
     "execution_count": 13,
     "metadata": {},
     "output_type": "execute_result"
    }
   ],
   "source": [
    "loss_func(activations, y)"
   ]
  },
  {
   "cell_type": "markdown",
   "id": "0a05596b",
   "metadata": {},
   "source": [
    "### Fine-tune a Resnet18"
   ]
  },
  {
   "cell_type": "code",
   "execution_count": 14,
   "id": "1e829fc6",
   "metadata": {},
   "outputs": [
    {
     "data": {
      "text/html": [],
      "text/plain": [
       "<IPython.core.display.HTML object>"
      ]
     },
     "metadata": {},
     "output_type": "display_data"
    },
    {
     "data": {
      "text/plain": [
       "SuggestedLRs(valley=0.0012022644514217973)"
      ]
     },
     "execution_count": 14,
     "metadata": {},
     "output_type": "execute_result"
    },
    {
     "data": {
      "image/png": "[encoded data removed]",
      "text/plain": [
       "<Figure size 432x288 with 1 Axes>"
      ]
     },
     "metadata": {
      "needs_background": "light"
     },
     "output_type": "display_data"
    }
   ],
   "source": [
    "dls = dblock.dataloaders(df, bs=64)\n",
    "\n",
    "learn = cnn_learner(dls,\n",
    "                    arch=resnet18,\n",
    "                    loss_func=loss_func,\n",
    "                    metrics=F1ScoreMulti(thresh=0.5)\n",
    "                   )\n",
    "\n",
    "lrMin = learn.lr_find()\n",
    "lrMin"
   ]
  },
  {
   "cell_type": "code",
   "execution_count": 15,
   "id": "36b1be3e",
   "metadata": {},
   "outputs": [
    {
     "data": {
      "text/html": [
       "<table border=\"1\" class=\"dataframe\">\n",
       "  <thead>\n",
       "    <tr style=\"text-align: left;\">\n",
       "      <th>epoch</th>\n",
       "      <th>train_loss</th>\n",
       "      <th>valid_loss</th>\n",
       "      <th>f1_score</th>\n",
       "      <th>time</th>\n",
       "    </tr>\n",
       "  </thead>\n",
       "  <tbody>\n",
       "    <tr>\n",
       "      <td>0</td>\n",
       "      <td>0.787887</td>\n",
       "      <td>0.562145</td>\n",
       "      <td>0.579696</td>\n",
       "      <td>12:16</td>\n",
       "    </tr>\n",
       "    <tr>\n",
       "      <td>1</td>\n",
       "      <td>0.474593</td>\n",
       "      <td>0.316418</td>\n",
       "      <td>0.757479</td>\n",
       "      <td>12:53</td>\n",
       "    </tr>\n",
       "    <tr>\n",
       "      <td>2</td>\n",
       "      <td>0.289505</td>\n",
       "      <td>0.229476</td>\n",
       "      <td>0.792226</td>\n",
       "      <td>12:29</td>\n",
       "    </tr>\n",
       "    <tr>\n",
       "      <td>3</td>\n",
       "      <td>0.239692</td>\n",
       "      <td>0.195258</td>\n",
       "      <td>0.822383</td>\n",
       "      <td>12:28</td>\n",
       "    </tr>\n",
       "  </tbody>\n",
       "</table>"
      ],
      "text/plain": [
       "<IPython.core.display.HTML object>"
      ]
     },
     "metadata": {},
     "output_type": "display_data"
    },
    {
     "data": {
      "text/html": [
       "<table border=\"1\" class=\"dataframe\">\n",
       "  <thead>\n",
       "    <tr style=\"text-align: left;\">\n",
       "      <th>epoch</th>\n",
       "      <th>train_loss</th>\n",
       "      <th>valid_loss</th>\n",
       "      <th>f1_score</th>\n",
       "      <th>time</th>\n",
       "    </tr>\n",
       "  </thead>\n",
       "  <tbody>\n",
       "    <tr>\n",
       "      <td>0</td>\n",
       "      <td>0.190573</td>\n",
       "      <td>0.163580</td>\n",
       "      <td>0.852607</td>\n",
       "      <td>12:33</td>\n",
       "    </tr>\n",
       "    <tr>\n",
       "      <td>1</td>\n",
       "      <td>0.171200</td>\n",
       "      <td>0.142992</td>\n",
       "      <td>0.869531</td>\n",
       "      <td>12:38</td>\n",
       "    </tr>\n",
       "    <tr>\n",
       "      <td>2</td>\n",
       "      <td>0.149346</td>\n",
       "      <td>0.128800</td>\n",
       "      <td>0.880886</td>\n",
       "      <td>12:34</td>\n",
       "    </tr>\n",
       "    <tr>\n",
       "      <td>3</td>\n",
       "      <td>0.130844</td>\n",
       "      <td>0.122342</td>\n",
       "      <td>0.883990</td>\n",
       "      <td>12:32</td>\n",
       "    </tr>\n",
       "    <tr>\n",
       "      <td>4</td>\n",
       "      <td>0.108305</td>\n",
       "      <td>0.120962</td>\n",
       "      <td>0.888559</td>\n",
       "      <td>12:33</td>\n",
       "    </tr>\n",
       "    <tr>\n",
       "      <td>5</td>\n",
       "      <td>0.097977</td>\n",
       "      <td>0.119610</td>\n",
       "      <td>0.902565</td>\n",
       "      <td>12:34</td>\n",
       "    </tr>\n",
       "    <tr>\n",
       "      <td>6</td>\n",
       "      <td>0.084119</td>\n",
       "      <td>0.117861</td>\n",
       "      <td>0.907696</td>\n",
       "      <td>12:35</td>\n",
       "    </tr>\n",
       "    <tr>\n",
       "      <td>7</td>\n",
       "      <td>0.069609</td>\n",
       "      <td>0.119975</td>\n",
       "      <td>0.907856</td>\n",
       "      <td>12:36</td>\n",
       "    </tr>\n",
       "    <tr>\n",
       "      <td>8</td>\n",
       "      <td>0.064402</td>\n",
       "      <td>0.120309</td>\n",
       "      <td>0.908680</td>\n",
       "      <td>12:35</td>\n",
       "    </tr>\n",
       "    <tr>\n",
       "      <td>9</td>\n",
       "      <td>0.062825</td>\n",
       "      <td>0.120589</td>\n",
       "      <td>0.908986</td>\n",
       "      <td>12:36</td>\n",
       "    </tr>\n",
       "  </tbody>\n",
       "</table>"
      ],
      "text/plain": [
       "<IPython.core.display.HTML object>"
      ]
     },
     "metadata": {},
     "output_type": "display_data"
    }
   ],
   "source": [
    "learn.fine_tune(10, base_lr=lrMin.valley, freeze_epochs=4)"
   ]
  },
  {
   "cell_type": "code",
   "execution_count": 16,
   "id": "d3b19bab",
   "metadata": {},
   "outputs": [],
   "source": [
    "learn.export('plant_resnet18.pkl') # save the model"
   ]
  },
  {
   "cell_type": "code",
   "execution_count": 17,
   "id": "c974ae76",
   "metadata": {},
   "outputs": [],
   "source": [
    "learn = load_learner('plant_resnet18.pkl') # load the model"
   ]
  },
  {
   "cell_type": "markdown",
   "id": "1af3c84b",
   "metadata": {},
   "source": [
    "### Fine-tune a Resnet34"
   ]
  },
  {
   "cell_type": "code",
   "execution_count": 18,
   "id": "e8c8f4a1",
   "metadata": {
    "tags": []
   },
   "outputs": [
    {
     "data": {
      "text/html": [],
      "text/plain": [
       "<IPython.core.display.HTML object>"
      ]
     },
     "metadata": {},
     "output_type": "display_data"
    },
    {
     "data": {
      "text/plain": [
       "SuggestedLRs(valley=0.0014454397605732083)"
      ]
     },
     "execution_count": 18,
     "metadata": {},
     "output_type": "execute_result"
    },
    {
     "data": {
      "image/png": "[encoded data removed]",
      "text/plain": [
       "<Figure size 432x288 with 1 Axes>"
      ]
     },
     "metadata": {
      "needs_background": "light"
     },
     "output_type": "display_data"
    }
   ],
   "source": [
    "dls = dblock.dataloaders(df, bs=64)\n",
    "\n",
    "learn = cnn_learner(dls,\n",
    "                    arch=resnet34,\n",
    "                    loss_func=loss_func,\n",
    "                    metrics=F1ScoreMulti(thresh=0.5)\n",
    "                   ).to_fp16()\n",
    "\n",
    "lrMin = learn.lr_find()\n",
    "lrMin"
   ]
  },
  {
   "cell_type": "code",
   "execution_count": 19,
   "id": "72a3254d",
   "metadata": {},
   "outputs": [
    {
     "data": {
      "text/html": [
       "<table border=\"1\" class=\"dataframe\">\n",
       "  <thead>\n",
       "    <tr style=\"text-align: left;\">\n",
       "      <th>epoch</th>\n",
       "      <th>train_loss</th>\n",
       "      <th>valid_loss</th>\n",
       "      <th>f1_score</th>\n",
       "      <th>time</th>\n",
       "    </tr>\n",
       "  </thead>\n",
       "  <tbody>\n",
       "    <tr>\n",
       "      <td>0</td>\n",
       "      <td>0.763138</td>\n",
       "      <td>0.526857</td>\n",
       "      <td>0.601060</td>\n",
       "      <td>12:34</td>\n",
       "    </tr>\n",
       "    <tr>\n",
       "      <td>1</td>\n",
       "      <td>0.423496</td>\n",
       "      <td>0.276008</td>\n",
       "      <td>0.776515</td>\n",
       "      <td>12:34</td>\n",
       "    </tr>\n",
       "    <tr>\n",
       "      <td>2</td>\n",
       "      <td>0.266440</td>\n",
       "      <td>0.202628</td>\n",
       "      <td>0.811854</td>\n",
       "      <td>12:35</td>\n",
       "    </tr>\n",
       "    <tr>\n",
       "      <td>3</td>\n",
       "      <td>0.229762</td>\n",
       "      <td>0.178090</td>\n",
       "      <td>0.831598</td>\n",
       "      <td>12:33</td>\n",
       "    </tr>\n",
       "  </tbody>\n",
       "</table>"
      ],
      "text/plain": [
       "<IPython.core.display.HTML object>"
      ]
     },
     "metadata": {},
     "output_type": "display_data"
    },
    {
     "data": {
      "text/html": [
       "<table border=\"1\" class=\"dataframe\">\n",
       "  <thead>\n",
       "    <tr style=\"text-align: left;\">\n",
       "      <th>epoch</th>\n",
       "      <th>train_loss</th>\n",
       "      <th>valid_loss</th>\n",
       "      <th>f1_score</th>\n",
       "      <th>time</th>\n",
       "    </tr>\n",
       "  </thead>\n",
       "  <tbody>\n",
       "    <tr>\n",
       "      <td>0</td>\n",
       "      <td>0.170743</td>\n",
       "      <td>0.136507</td>\n",
       "      <td>0.867804</td>\n",
       "      <td>12:48</td>\n",
       "    </tr>\n",
       "    <tr>\n",
       "      <td>1</td>\n",
       "      <td>0.147330</td>\n",
       "      <td>0.127906</td>\n",
       "      <td>0.885726</td>\n",
       "      <td>12:43</td>\n",
       "    </tr>\n",
       "    <tr>\n",
       "      <td>2</td>\n",
       "      <td>0.140608</td>\n",
       "      <td>0.121691</td>\n",
       "      <td>0.889971</td>\n",
       "      <td>12:42</td>\n",
       "    </tr>\n",
       "    <tr>\n",
       "      <td>3</td>\n",
       "      <td>0.121560</td>\n",
       "      <td>0.121264</td>\n",
       "      <td>0.886805</td>\n",
       "      <td>12:44</td>\n",
       "    </tr>\n",
       "    <tr>\n",
       "      <td>4</td>\n",
       "      <td>0.102823</td>\n",
       "      <td>0.119007</td>\n",
       "      <td>0.896019</td>\n",
       "      <td>12:42</td>\n",
       "    </tr>\n",
       "    <tr>\n",
       "      <td>5</td>\n",
       "      <td>0.080805</td>\n",
       "      <td>0.123225</td>\n",
       "      <td>0.890652</td>\n",
       "      <td>12:43</td>\n",
       "    </tr>\n",
       "    <tr>\n",
       "      <td>6</td>\n",
       "      <td>0.066777</td>\n",
       "      <td>0.119120</td>\n",
       "      <td>0.905036</td>\n",
       "      <td>12:43</td>\n",
       "    </tr>\n",
       "    <tr>\n",
       "      <td>7</td>\n",
       "      <td>0.050654</td>\n",
       "      <td>0.127903</td>\n",
       "      <td>0.903624</td>\n",
       "      <td>12:42</td>\n",
       "    </tr>\n",
       "    <tr>\n",
       "      <td>8</td>\n",
       "      <td>0.042290</td>\n",
       "      <td>0.126662</td>\n",
       "      <td>0.904584</td>\n",
       "      <td>12:39</td>\n",
       "    </tr>\n",
       "    <tr>\n",
       "      <td>9</td>\n",
       "      <td>0.040377</td>\n",
       "      <td>0.128954</td>\n",
       "      <td>0.903363</td>\n",
       "      <td>12:41</td>\n",
       "    </tr>\n",
       "  </tbody>\n",
       "</table>"
      ],
      "text/plain": [
       "<IPython.core.display.HTML object>"
      ]
     },
     "metadata": {},
     "output_type": "display_data"
    }
   ],
   "source": [
    "learn.fine_tune(10, base_lr=lrMin.valley, freeze_epochs=4)"
   ]
  },
  {
   "cell_type": "code",
   "execution_count": 20,
   "id": "4fe6e7f9",
   "metadata": {},
   "outputs": [],
   "source": [
    "learn.export('plant_resnet34.pkl') # save the model"
   ]
  },
  {
   "cell_type": "code",
   "execution_count": 21,
   "id": "86710833",
   "metadata": {},
   "outputs": [],
   "source": [
    "learn = load_learner('plant_resnet34.pkl') # load the model"
   ]
  },
  {
   "cell_type": "markdown",
   "id": "b675284e",
   "metadata": {},
   "source": [
    "### Fine-tune a Resnet50"
   ]
  },
  {
   "cell_type": "code",
   "execution_count": 22,
   "id": "58ed9974",
   "metadata": {},
   "outputs": [
    {
     "data": {
      "text/html": [],
      "text/plain": [
       "<IPython.core.display.HTML object>"
      ]
     },
     "metadata": {},
     "output_type": "display_data"
    },
    {
     "data": {
      "text/plain": [
       "SuggestedLRs(valley=0.0006918309954926372)"
      ]
     },
     "execution_count": 22,
     "metadata": {},
     "output_type": "execute_result"
    },
    {
     "data": {
      "image/png": "[encoded data removed]",
      "text/plain": [
       "<Figure size 432x288 with 1 Axes>"
      ]
     },
     "metadata": {
      "needs_background": "light"
     },
     "output_type": "display_data"
    }
   ],
   "source": [
    "dls = dblock.dataloaders(df, bs=32)\n",
    "\n",
    "learn = cnn_learner(dls,\n",
    "                    arch=resnet50,\n",
    "                    loss_func=loss_func,\n",
    "                    metrics=F1ScoreMulti(thresh=0.5)\n",
    "                   ).to_fp16()\n",
    "\n",
    "lrMin = learn.lr_find()\n",
    "lrMin"
   ]
  },
  {
   "cell_type": "code",
   "execution_count": 23,
   "id": "7a2f828b",
   "metadata": {},
   "outputs": [
    {
     "data": {
      "text/html": [
       "<table border=\"1\" class=\"dataframe\">\n",
       "  <thead>\n",
       "    <tr style=\"text-align: left;\">\n",
       "      <th>epoch</th>\n",
       "      <th>train_loss</th>\n",
       "      <th>valid_loss</th>\n",
       "      <th>f1_score</th>\n",
       "      <th>time</th>\n",
       "    </tr>\n",
       "  </thead>\n",
       "  <tbody>\n",
       "    <tr>\n",
       "      <td>0</td>\n",
       "      <td>0.673857</td>\n",
       "      <td>0.492392</td>\n",
       "      <td>0.628441</td>\n",
       "      <td>13:26</td>\n",
       "    </tr>\n",
       "    <tr>\n",
       "      <td>1</td>\n",
       "      <td>0.403862</td>\n",
       "      <td>0.260310</td>\n",
       "      <td>0.802595</td>\n",
       "      <td>13:23</td>\n",
       "    </tr>\n",
       "    <tr>\n",
       "      <td>2</td>\n",
       "      <td>0.249109</td>\n",
       "      <td>0.183192</td>\n",
       "      <td>0.834452</td>\n",
       "      <td>13:25</td>\n",
       "    </tr>\n",
       "    <tr>\n",
       "      <td>3</td>\n",
       "      <td>0.212853</td>\n",
       "      <td>0.156813</td>\n",
       "      <td>0.849095</td>\n",
       "      <td>13:23</td>\n",
       "    </tr>\n",
       "  </tbody>\n",
       "</table>"
      ],
      "text/plain": [
       "<IPython.core.display.HTML object>"
      ]
     },
     "metadata": {},
     "output_type": "display_data"
    },
    {
     "data": {
      "text/html": [
       "<table border=\"1\" class=\"dataframe\">\n",
       "  <thead>\n",
       "    <tr style=\"text-align: left;\">\n",
       "      <th>epoch</th>\n",
       "      <th>train_loss</th>\n",
       "      <th>valid_loss</th>\n",
       "      <th>f1_score</th>\n",
       "      <th>time</th>\n",
       "    </tr>\n",
       "  </thead>\n",
       "  <tbody>\n",
       "    <tr>\n",
       "      <td>0</td>\n",
       "      <td>0.178558</td>\n",
       "      <td>0.132082</td>\n",
       "      <td>0.879625</td>\n",
       "      <td>16:42</td>\n",
       "    </tr>\n",
       "    <tr>\n",
       "      <td>1</td>\n",
       "      <td>0.154890</td>\n",
       "      <td>0.124534</td>\n",
       "      <td>0.892065</td>\n",
       "      <td>16:40</td>\n",
       "    </tr>\n",
       "    <tr>\n",
       "      <td>2</td>\n",
       "      <td>0.141739</td>\n",
       "      <td>0.125973</td>\n",
       "      <td>0.895435</td>\n",
       "      <td>16:41</td>\n",
       "    </tr>\n",
       "    <tr>\n",
       "      <td>3</td>\n",
       "      <td>0.120861</td>\n",
       "      <td>0.109766</td>\n",
       "      <td>0.892862</td>\n",
       "      <td>16:40</td>\n",
       "    </tr>\n",
       "    <tr>\n",
       "      <td>4</td>\n",
       "      <td>0.107963</td>\n",
       "      <td>0.108668</td>\n",
       "      <td>0.907884</td>\n",
       "      <td>16:39</td>\n",
       "    </tr>\n",
       "    <tr>\n",
       "      <td>5</td>\n",
       "      <td>0.090167</td>\n",
       "      <td>0.112661</td>\n",
       "      <td>0.906309</td>\n",
       "      <td>16:40</td>\n",
       "    </tr>\n",
       "    <tr>\n",
       "      <td>6</td>\n",
       "      <td>0.075168</td>\n",
       "      <td>0.110600</td>\n",
       "      <td>0.913503</td>\n",
       "      <td>16:40</td>\n",
       "    </tr>\n",
       "    <tr>\n",
       "      <td>7</td>\n",
       "      <td>0.065750</td>\n",
       "      <td>0.109514</td>\n",
       "      <td>0.912438</td>\n",
       "      <td>16:39</td>\n",
       "    </tr>\n",
       "    <tr>\n",
       "      <td>8</td>\n",
       "      <td>0.051218</td>\n",
       "      <td>0.112631</td>\n",
       "      <td>0.914939</td>\n",
       "      <td>16:40</td>\n",
       "    </tr>\n",
       "    <tr>\n",
       "      <td>9</td>\n",
       "      <td>0.048914</td>\n",
       "      <td>0.111233</td>\n",
       "      <td>0.915381</td>\n",
       "      <td>16:40</td>\n",
       "    </tr>\n",
       "  </tbody>\n",
       "</table>"
      ],
      "text/plain": [
       "<IPython.core.display.HTML object>"
      ]
     },
     "metadata": {},
     "output_type": "display_data"
    }
   ],
   "source": [
    "learn.fine_tune(10, base_lr=lrMin.valley, freeze_epochs=4)"
   ]
  },
  {
   "cell_type": "code",
   "execution_count": 24,
   "id": "f7f709e6",
   "metadata": {},
   "outputs": [],
   "source": [
    "learn.export('plant_resnet50.pkl') # save the model"
   ]
  },
  {
   "cell_type": "code",
   "execution_count": 25,
   "id": "dbe8848c",
   "metadata": {},
   "outputs": [],
   "source": [
    "learn = load_learner('plant_resnet50.pkl') # load the model"
   ]
  },
  {
   "cell_type": "markdown",
   "id": "e9cce703-06da-4f12-8cec-4ffd1186f55f",
   "metadata": {},
   "source": [
    "### Fine-tune a Resnet101"
   ]
  },
  {
   "cell_type": "code",
   "execution_count": 14,
   "id": "bfaceba1-8790-4bee-8a0b-1957e0770b34",
   "metadata": {},
   "outputs": [
    {
     "data": {
      "text/html": [],
      "text/plain": [
       "<IPython.core.display.HTML object>"
      ]
     },
     "metadata": {},
     "output_type": "display_data"
    },
    {
     "data": {
      "text/plain": [
       "SuggestedLRs(valley=0.001737800776027143)"
      ]
     },
     "execution_count": 14,
     "metadata": {},
     "output_type": "execute_result"
    },
    {
     "data": {
      "image/png": "[encoded data removed]",
      "text/plain": [
       "<Figure size 432x288 with 1 Axes>"
      ]
     },
     "metadata": {
      "needs_background": "light"
     },
     "output_type": "display_data"
    }
   ],
   "source": [
    "dls = dblock.dataloaders(df, bs=24)\n",
    "\n",
    "learn = cnn_learner(dls,\n",
    "                    arch=resnet101,\n",
    "                    loss_func=loss_func,\n",
    "                    metrics=F1ScoreMulti(thresh=0.5)\n",
    "                   ).to_fp16()\n",
    "\n",
    "lrMin = learn.lr_find()\n",
    "lrMin"
   ]
  },
  {
   "cell_type": "code",
   "execution_count": 15,
   "id": "09866d71-6a68-49f8-beaa-c66a9f4060b2",
   "metadata": {},
   "outputs": [
    {
     "data": {
      "text/html": [
       "<table border=\"1\" class=\"dataframe\">\n",
       "  <thead>\n",
       "    <tr style=\"text-align: left;\">\n",
       "      <th>epoch</th>\n",
       "      <th>train_loss</th>\n",
       "      <th>valid_loss</th>\n",
       "      <th>f1_score</th>\n",
       "      <th>time</th>\n",
       "    </tr>\n",
       "  </thead>\n",
       "  <tbody>\n",
       "    <tr>\n",
       "      <td>0</td>\n",
       "      <td>0.501121</td>\n",
       "      <td>0.326320</td>\n",
       "      <td>0.767287</td>\n",
       "      <td>20:47</td>\n",
       "    </tr>\n",
       "    <tr>\n",
       "      <td>1</td>\n",
       "      <td>0.252084</td>\n",
       "      <td>0.194050</td>\n",
       "      <td>0.830107</td>\n",
       "      <td>20:45</td>\n",
       "    </tr>\n",
       "    <tr>\n",
       "      <td>2</td>\n",
       "      <td>0.203360</td>\n",
       "      <td>0.153984</td>\n",
       "      <td>0.874632</td>\n",
       "      <td>20:45</td>\n",
       "    </tr>\n",
       "    <tr>\n",
       "      <td>3</td>\n",
       "      <td>0.171109</td>\n",
       "      <td>0.134321</td>\n",
       "      <td>0.886591</td>\n",
       "      <td>20:46</td>\n",
       "    </tr>\n",
       "  </tbody>\n",
       "</table>"
      ],
      "text/plain": [
       "<IPython.core.display.HTML object>"
      ]
     },
     "metadata": {},
     "output_type": "display_data"
    },
    {
     "data": {
      "text/html": [
       "<table border=\"1\" class=\"dataframe\">\n",
       "  <thead>\n",
       "    <tr style=\"text-align: left;\">\n",
       "      <th>epoch</th>\n",
       "      <th>train_loss</th>\n",
       "      <th>valid_loss</th>\n",
       "      <th>f1_score</th>\n",
       "      <th>time</th>\n",
       "    </tr>\n",
       "  </thead>\n",
       "  <tbody>\n",
       "    <tr>\n",
       "      <td>0</td>\n",
       "      <td>0.156536</td>\n",
       "      <td>0.111115</td>\n",
       "      <td>0.899472</td>\n",
       "      <td>26:54</td>\n",
       "    </tr>\n",
       "    <tr>\n",
       "      <td>1</td>\n",
       "      <td>0.150769</td>\n",
       "      <td>0.116276</td>\n",
       "      <td>0.892628</td>\n",
       "      <td>26:52</td>\n",
       "    </tr>\n",
       "    <tr>\n",
       "      <td>2</td>\n",
       "      <td>0.138679</td>\n",
       "      <td>0.120980</td>\n",
       "      <td>0.883495</td>\n",
       "      <td>26:52</td>\n",
       "    </tr>\n",
       "    <tr>\n",
       "      <td>3</td>\n",
       "      <td>0.147980</td>\n",
       "      <td>0.113686</td>\n",
       "      <td>0.888558</td>\n",
       "      <td>26:54</td>\n",
       "    </tr>\n",
       "    <tr>\n",
       "      <td>4</td>\n",
       "      <td>0.119669</td>\n",
       "      <td>0.112148</td>\n",
       "      <td>0.902256</td>\n",
       "      <td>26:53</td>\n",
       "    </tr>\n",
       "    <tr>\n",
       "      <td>5</td>\n",
       "      <td>0.102129</td>\n",
       "      <td>0.099775</td>\n",
       "      <td>0.914950</td>\n",
       "      <td>26:54</td>\n",
       "    </tr>\n",
       "    <tr>\n",
       "      <td>6</td>\n",
       "      <td>0.091969</td>\n",
       "      <td>0.100389</td>\n",
       "      <td>0.915661</td>\n",
       "      <td>26:53</td>\n",
       "    </tr>\n",
       "    <tr>\n",
       "      <td>7</td>\n",
       "      <td>0.063236</td>\n",
       "      <td>0.103382</td>\n",
       "      <td>0.919922</td>\n",
       "      <td>26:53</td>\n",
       "    </tr>\n",
       "    <tr>\n",
       "      <td>8</td>\n",
       "      <td>0.055237</td>\n",
       "      <td>0.107560</td>\n",
       "      <td>0.918947</td>\n",
       "      <td>26:52</td>\n",
       "    </tr>\n",
       "    <tr>\n",
       "      <td>9</td>\n",
       "      <td>0.053373</td>\n",
       "      <td>0.106835</td>\n",
       "      <td>0.921065</td>\n",
       "      <td>26:53</td>\n",
       "    </tr>\n",
       "  </tbody>\n",
       "</table>"
      ],
      "text/plain": [
       "<IPython.core.display.HTML object>"
      ]
     },
     "metadata": {},
     "output_type": "display_data"
    }
   ],
   "source": [
    "learn.fine_tune(10, base_lr=lrMin.valley, freeze_epochs=4)"
   ]
  },
  {
   "cell_type": "code",
   "execution_count": 16,
   "id": "865a3b82-0b17-40e2-8478-f8fbf46eb066",
   "metadata": {},
   "outputs": [],
   "source": [
    "learn.export('plant_resnet101.pkl') # save the model"
   ]
  },
  {
   "cell_type": "code",
   "execution_count": 17,
   "id": "34504e82-0954-4ebb-80de-0f0bd65feb96",
   "metadata": {},
   "outputs": [],
   "source": [
    "learn = load_learner('plant_resnet101.pkl') # load the model"
   ]
  },
  {
   "cell_type": "markdown",
   "id": "7e370b6f-f468-44b2-bba6-d95becef8ddd",
   "metadata": {},
   "source": [
    "### Resnet18 Practice"
   ]
  },
  {
   "cell_type": "code",
   "execution_count": 18,
   "id": "f6d20ce5-e3db-40be-95f5-3d5740e95e32",
   "metadata": {},
   "outputs": [],
   "source": [
    "from fastai.vision.all import *\n",
    "%config Completer.use_jedi = False"
   ]
  },
  {
   "cell_type": "code",
   "execution_count": 19,
   "id": "8b954918-3647-4f72-a12f-4852d3221dc0",
   "metadata": {},
   "outputs": [],
   "source": [
    "valid_pct = 0.2\n",
    "path = Path('/media/xar/barracuda1/fast.ai/data/plant_pathology/')\n",
    "df = pd.read_csv(path/'train.csv')\n",
    "\n",
    "def get_x(df): return path/'train_images'/df['image']\n",
    "def get_y(df): return df['labels']\n",
    "dblock = DataBlock(\n",
    "                   blocks=[ImageBlock, MultiCategoryBlock],\n",
    "                   get_x=get_x,\n",
    "                   get_y=get_y,\n",
    "                   splitter=RandomSplitter(valid_pct=valid_pct, seed=42),\n",
    "                   item_tfms=RandomResizedCrop(540, min_scale=0.35)\n",
    "                  )\n",
    "loss_func = nn.BCEWithLogitsLoss()"
   ]
  },
  {
   "cell_type": "code",
   "execution_count": null,
   "id": "8f7b07bf-549f-474f-9d3c-358090a93ac2",
   "metadata": {},
   "outputs": [],
   "source": [
    "dls = dblock.dataloaders(df, bs=64)\n",
    "\n",
    "learn = cnn_learner(dls,\n",
    "                    arch=resnet18,\n",
    "                    loss_func=loss_func,\n",
    "                    metrics=F1ScoreMulti(thresh=0.5)\n",
    "                   )\n",
    "\n",
    "lrMin = learn.lr_find()\n",
    "lrMin\n",
    "\n",
    "learn.fine_tune(4, base_lr=3e-3, freeze_epochs=4)"
   ]
  },
  {
   "cell_type": "code",
   "execution_count": null,
   "id": "d09f61da-5d81-4d69-9bdc-b8a22c00380a",
   "metadata": {},
   "outputs": [],
   "source": [
    "lrMin = learn.lr_find()\n",
    "lrMin"
   ]
  },
  {
   "cell_type": "code",
   "execution_count": null,
   "id": "6c17cd48-2458-4368-a084-1b78a2a4e341",
   "metadata": {},
   "outputs": [],
   "source": []
  }
 ],
 "metadata": {
  "kernelspec": {
   "display_name": "Python 3",
   "language": "python",
   "name": "python3"
  },
  "language_info": {
   "codemirror_mode": {
    "name": "ipython",
    "version": 3
   },
   "file_extension": ".py",
   "mimetype": "text/x-python",
   "name": "python",
   "nbconvert_exporter": "python",
   "pygments_lexer": "ipython3",
   "version": "3.8.8"
  }
 },
 "nbformat": 4,
 "nbformat_minor": 5
}
