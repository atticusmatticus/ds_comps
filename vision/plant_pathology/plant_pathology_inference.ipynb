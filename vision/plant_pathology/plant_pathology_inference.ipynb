{
 "cells": [
  {
   "cell_type": "markdown",
   "id": "57bd4532",
   "metadata": {},
   "source": [
    "# Plant Pathology Inference Notebook"
   ]
  },
  {
   "cell_type": "code",
   "execution_count": 47,
   "id": "22937689",
   "metadata": {},
   "outputs": [],
   "source": [
    "from fastai.vision.all import *\n",
    "%config Completer.use_jedi = False\n",
    "%matplotlib inline\n",
    "\n",
    "seed = 42\n",
    "set_seed(seed, reproducible=True)"
   ]
  },
  {
   "cell_type": "code",
   "execution_count": 56,
   "id": "9cbd6f44",
   "metadata": {},
   "outputs": [
    {
     "data": {
      "text/plain": [
       "[Path('/media/xar/barracuda1/fast.ai/ds_comps/vision/plant_pathology/inference/plant_resnet18_vl_480px_wd0.1.pkl'),\n",
       " Path('/media/xar/barracuda1/fast.ai/ds_comps/vision/plant_pathology/inference/plant_resnet18_vl_480px_wd0.2.pkl'),\n",
       " Path('/media/xar/barracuda1/fast.ai/ds_comps/vision/plant_pathology/inference/plant_resnet18_vl_480px_wd0.3.pkl'),\n",
       " Path('/media/xar/barracuda1/fast.ai/ds_comps/vision/plant_pathology/inference/plant_resnet18_vl_480px_wd0.4.pkl'),\n",
       " Path('/media/xar/barracuda1/fast.ai/ds_comps/vision/plant_pathology/inference/plant_resnet34_vl_480px_wd0.1.pkl'),\n",
       " Path('/media/xar/barracuda1/fast.ai/ds_comps/vision/plant_pathology/inference/plant_resnet34_vl_480px_wd0.2.pkl'),\n",
       " Path('/media/xar/barracuda1/fast.ai/ds_comps/vision/plant_pathology/inference/plant_resnet34_vl_480px_wd0.3.pkl'),\n",
       " Path('/media/xar/barracuda1/fast.ai/ds_comps/vision/plant_pathology/inference/plant_resnet34_vl_480px_wd0.4.pkl'),\n",
       " Path('/media/xar/barracuda1/fast.ai/ds_comps/vision/plant_pathology/inference/plant_resnet50_vl_480px_wd0.1.pkl'),\n",
       " Path('/media/xar/barracuda1/fast.ai/ds_comps/vision/plant_pathology/inference/plant_resnet50_vl_480px_wd0.2.pkl'),\n",
       " Path('/media/xar/barracuda1/fast.ai/ds_comps/vision/plant_pathology/inference/plant_resnet50_vl_480px_wd0.3.pkl'),\n",
       " Path('/media/xar/barracuda1/fast.ai/ds_comps/vision/plant_pathology/inference/plant_resnet50_vl_480px_wd0.4.pkl'),\n",
       " Path('/media/xar/barracuda1/fast.ai/ds_comps/vision/plant_pathology/inference/plant_resnet101_vl_480px_wd0.1.pkl'),\n",
       " Path('/media/xar/barracuda1/fast.ai/ds_comps/vision/plant_pathology/inference/plant_resnet101_vl_480px_wd0.2.pkl'),\n",
       " Path('/media/xar/barracuda1/fast.ai/ds_comps/vision/plant_pathology/inference/plant_resnet101_vl_480px_wd0.3.pkl'),\n",
       " Path('/media/xar/barracuda1/fast.ai/ds_comps/vision/plant_pathology/inference/plant_resnet101_vl_480px_wd0.4.pkl'),\n",
       " Path('/media/xar/barracuda1/fast.ai/ds_comps/vision/plant_pathology/inference/plant_resnet152_vl_480px_wd0.1.pkl'),\n",
       " Path('/media/xar/barracuda1/fast.ai/ds_comps/vision/plant_pathology/inference/plant_resnet152_vl_480px_wd0.2.pkl'),\n",
       " Path('/media/xar/barracuda1/fast.ai/ds_comps/vision/plant_pathology/inference/plant_resnet152_vl_480px_wd0.3.pkl'),\n",
       " Path('/media/xar/barracuda1/fast.ai/ds_comps/vision/plant_pathology/inference/plant_resnet152_vl_480px_wd0.4.pkl')]"
      ]
     },
     "execution_count": 56,
     "metadata": {},
     "output_type": "execute_result"
    }
   ],
   "source": [
    "path = Path('/media/xar/barracuda1/fast.ai/')\n",
    "data_path = Path(path/'data'/'plant_pathology')\n",
    "models_path = Path(path/'ds_comps'/'vision'/'plant_pathology'/'inference')\n",
    "\n",
    "models = [models_path/f'plant_resnet{r}_vl_480px_wd0.{w}.pkl' for r in [18, 34, 50, 101, 152] for w in range(1,5)]\n",
    "# models = [models_path/f'plant_resnet101_vl_480px_wd0.2.pkl']\n",
    "models"
   ]
  },
  {
   "cell_type": "code",
   "execution_count": 49,
   "metadata": {},
   "outputs": [],
   "source": [
    "# test_pics = (data_path/'test_images').ls().sorted()\n",
    "# im_path = test_pics[0]\n",
    "# im = Image.open(im_path)\n",
    "# im"
   ]
  },
  {
   "cell_type": "markdown",
   "id": "90034e37-fd6e-447d-8fd4-4213a82f15d4",
   "metadata": {},
   "source": [
    "Define `get_x` and `get_y` but this time have them pointing towards the test images."
   ]
  },
  {
   "cell_type": "code",
   "execution_count": 50,
   "id": "c1253832-e59f-4f02-b0e3-45f5d8be4fa9",
   "metadata": {},
   "outputs": [],
   "source": [
    "def get_x(df): return data_path/'test_images'/df['image']\n",
    "def get_y(df): return df['labels'].split()"
   ]
  },
  {
   "cell_type": "markdown",
   "id": "179a4466-2ba6-4d91-966f-b6ab818a4abf",
   "metadata": {},
   "source": [
    "## Generate Predictions"
   ]
  },
  {
   "cell_type": "code",
   "execution_count": 51,
   "id": "869619c4-95e0-42a5-a205-be817661d40b",
   "metadata": {},
   "outputs": [
    {
     "data": {
      "text/html": [
       "<div>\n",
       "<style scoped>\n",
       "    .dataframe tbody tr th:only-of-type {\n",
       "        vertical-align: middle;\n",
       "    }\n",
       "\n",
       "    .dataframe tbody tr th {\n",
       "        vertical-align: top;\n",
       "    }\n",
       "\n",
       "    .dataframe thead th {\n",
       "        text-align: right;\n",
       "    }\n",
       "</style>\n",
       "<table border=\"1\" class=\"dataframe\">\n",
       "  <thead>\n",
       "    <tr style=\"text-align: right;\">\n",
       "      <th></th>\n",
       "      <th>image</th>\n",
       "      <th>labels</th>\n",
       "    </tr>\n",
       "  </thead>\n",
       "  <tbody>\n",
       "    <tr>\n",
       "      <th>0</th>\n",
       "      <td>85f8cb619c66b863.jpg</td>\n",
       "      <td>healthy</td>\n",
       "    </tr>\n",
       "    <tr>\n",
       "      <th>1</th>\n",
       "      <td>ad8770db05586b59.jpg</td>\n",
       "      <td>healthy</td>\n",
       "    </tr>\n",
       "    <tr>\n",
       "      <th>2</th>\n",
       "      <td>c7b03e718489f3ca.jpg</td>\n",
       "      <td>healthy</td>\n",
       "    </tr>\n",
       "  </tbody>\n",
       "</table>\n",
       "</div>"
      ],
      "text/plain": [
       "                  image   labels\n",
       "0  85f8cb619c66b863.jpg  healthy\n",
       "1  ad8770db05586b59.jpg  healthy\n",
       "2  c7b03e718489f3ca.jpg  healthy"
      ]
     },
     "execution_count": 51,
     "metadata": {},
     "output_type": "execute_result"
    }
   ],
   "source": [
    "sample = pd.read_csv(data_path/'sample_submission.csv')\n",
    "sample"
   ]
  },
  {
   "cell_type": "code",
   "execution_count": 52,
   "id": "74efee7b-0af0-44c8-80db-e24a32b9d02f",
   "metadata": {},
   "outputs": [
    {
     "data": {
      "text/html": [
       "\n",
       "    <div>\n",
       "        <style>\n",
       "            /* Turns off some styling */\n",
       "            progress {\n",
       "                /* gets rid of default border in Firefox and Opera. */\n",
       "                border: none;\n",
       "                /* Needs to be in here for Safari polyfill so background images work as expected. */\n",
       "                background-size: auto;\n",
       "            }\n",
       "            .progress-bar-interrupted, .progress-bar-interrupted::-webkit-progress-bar {\n",
       "                background: #F44336;\n",
       "            }\n",
       "        </style>\n",
       "      <progress value='0' class='' max='20' style='width:300px; height:20px; vertical-align: middle;'></progress>\n",
       "      \n",
       "    </div>\n",
       "    \n"
      ],
      "text/plain": [
       "<IPython.core.display.HTML object>"
      ]
     },
     "metadata": {},
     "output_type": "display_data"
    },
    {
     "data": {
      "text/html": [],
      "text/plain": [
       "<IPython.core.display.HTML object>"
      ]
     },
     "metadata": {},
     "output_type": "display_data"
    },
    {
     "data": {
      "text/html": [
       "\n",
       "    <div>\n",
       "        <style>\n",
       "            /* Turns off some styling */\n",
       "            progress {\n",
       "                /* gets rid of default border in Firefox and Opera. */\n",
       "                border: none;\n",
       "                /* Needs to be in here for Safari polyfill so background images work as expected. */\n",
       "                background-size: auto;\n",
       "            }\n",
       "            .progress-bar-interrupted, .progress-bar-interrupted::-webkit-progress-bar {\n",
       "                background: #F44336;\n",
       "            }\n",
       "        </style>\n",
       "      <progress value='0' class='' max='20' style='width:300px; height:20px; vertical-align: middle;'></progress>\n",
       "      \n",
       "    </div>\n",
       "    \n"
      ],
      "text/plain": [
       "<IPython.core.display.HTML object>"
      ]
     },
     "metadata": {},
     "output_type": "display_data"
    },
    {
     "data": {
      "text/html": [],
      "text/plain": [
       "<IPython.core.display.HTML object>"
      ]
     },
     "metadata": {},
     "output_type": "display_data"
    },
    {
     "data": {
      "text/html": [
       "\n",
       "    <div>\n",
       "        <style>\n",
       "            /* Turns off some styling */\n",
       "            progress {\n",
       "                /* gets rid of default border in Firefox and Opera. */\n",
       "                border: none;\n",
       "                /* Needs to be in here for Safari polyfill so background images work as expected. */\n",
       "                background-size: auto;\n",
       "            }\n",
       "            .progress-bar-interrupted, .progress-bar-interrupted::-webkit-progress-bar {\n",
       "                background: #F44336;\n",
       "            }\n",
       "        </style>\n",
       "      <progress value='0' class='' max='20' style='width:300px; height:20px; vertical-align: middle;'></progress>\n",
       "      \n",
       "    </div>\n",
       "    \n"
      ],
      "text/plain": [
       "<IPython.core.display.HTML object>"
      ]
     },
     "metadata": {},
     "output_type": "display_data"
    },
    {
     "data": {
      "text/html": [],
      "text/plain": [
       "<IPython.core.display.HTML object>"
      ]
     },
     "metadata": {},
     "output_type": "display_data"
    },
    {
     "data": {
      "text/html": [
       "\n",
       "    <div>\n",
       "        <style>\n",
       "            /* Turns off some styling */\n",
       "            progress {\n",
       "                /* gets rid of default border in Firefox and Opera. */\n",
       "                border: none;\n",
       "                /* Needs to be in here for Safari polyfill so background images work as expected. */\n",
       "                background-size: auto;\n",
       "            }\n",
       "            .progress-bar-interrupted, .progress-bar-interrupted::-webkit-progress-bar {\n",
       "                background: #F44336;\n",
       "            }\n",
       "        </style>\n",
       "      <progress value='0' class='' max='20' style='width:300px; height:20px; vertical-align: middle;'></progress>\n",
       "      \n",
       "    </div>\n",
       "    \n"
      ],
      "text/plain": [
       "<IPython.core.display.HTML object>"
      ]
     },
     "metadata": {},
     "output_type": "display_data"
    },
    {
     "data": {
      "text/html": [],
      "text/plain": [
       "<IPython.core.display.HTML object>"
      ]
     },
     "metadata": {},
     "output_type": "display_data"
    },
    {
     "data": {
      "text/plain": [
       "tensor([[ 1.5106, -3.0578, -6.7058, -6.7718, -3.3152, -2.6660],\n",
       "        [-0.0440,  1.0811, -7.6678, -7.6717, -6.1289,  1.0281],\n",
       "        [-3.7034,  3.8764, -6.0400, -8.5150, -7.8361, -2.5752]])"
      ]
     },
     "execution_count": 52,
     "metadata": {},
     "output_type": "execute_result"
    }
   ],
   "source": [
    "predictions = 0\n",
    "for m in models:\n",
    "    learner = load_learner(m, cpu=False).to_fp32()\n",
    "    test_dl = learner.dls.test_dl(sample)\n",
    "    preds, _ = learner.tta(dl=test_dl)\n",
    "    predictions += preds\n",
    "    \n",
    "predictions /= len(models)\n",
    "predictions"
   ]
  },
  {
   "cell_type": "code",
   "execution_count": 53,
   "metadata": {},
   "outputs": [
    {
     "data": {
      "text/plain": [
       "['complex', 'frog_eye_leaf_spot', 'healthy', 'powdery_mildew', 'rust', 'scab']"
      ]
     },
     "execution_count": 53,
     "metadata": {},
     "output_type": "execute_result"
    }
   ],
   "source": [
    "learner.dls.vocab"
   ]
  },
  {
   "cell_type": "code",
   "execution_count": 54,
   "id": "f521472d-b33b-427a-bc2c-21fa3a5e506c",
   "metadata": {},
   "outputs": [
    {
     "data": {
      "text/plain": [
       "['complex', 'frog_eye_leaf_spot', 'frog_eye_leaf_spot']"
      ]
     },
     "execution_count": 54,
     "metadata": {},
     "output_type": "execute_result"
    }
   ],
   "source": [
    "vocab = learner.dls.vocab\n",
    "preds_dec = [vocab[i] for i in predictions.argmax(1)]\n",
    "preds_dec"
   ]
  },
  {
   "cell_type": "markdown",
   "metadata": {},
   "source": [
    "## Submission"
   ]
  },
  {
   "cell_type": "code",
   "execution_count": 55,
   "id": "fd2f1165-73b1-4b5f-b72e-3fc8d7d55910",
   "metadata": {},
   "outputs": [
    {
     "data": {
      "text/html": [
       "<div>\n",
       "<style scoped>\n",
       "    .dataframe tbody tr th:only-of-type {\n",
       "        vertical-align: middle;\n",
       "    }\n",
       "\n",
       "    .dataframe tbody tr th {\n",
       "        vertical-align: top;\n",
       "    }\n",
       "\n",
       "    .dataframe thead th {\n",
       "        text-align: right;\n",
       "    }\n",
       "</style>\n",
       "<table border=\"1\" class=\"dataframe\">\n",
       "  <thead>\n",
       "    <tr style=\"text-align: right;\">\n",
       "      <th></th>\n",
       "      <th>image</th>\n",
       "      <th>labels</th>\n",
       "    </tr>\n",
       "  </thead>\n",
       "  <tbody>\n",
       "    <tr>\n",
       "      <th>0</th>\n",
       "      <td>85f8cb619c66b863.jpg</td>\n",
       "      <td>complex</td>\n",
       "    </tr>\n",
       "    <tr>\n",
       "      <th>1</th>\n",
       "      <td>ad8770db05586b59.jpg</td>\n",
       "      <td>frog_eye_leaf_spot</td>\n",
       "    </tr>\n",
       "    <tr>\n",
       "      <th>2</th>\n",
       "      <td>c7b03e718489f3ca.jpg</td>\n",
       "      <td>frog_eye_leaf_spot</td>\n",
       "    </tr>\n",
       "  </tbody>\n",
       "</table>\n",
       "</div>"
      ],
      "text/plain": [
       "                  image              labels\n",
       "0  85f8cb619c66b863.jpg             complex\n",
       "1  ad8770db05586b59.jpg  frog_eye_leaf_spot\n",
       "2  c7b03e718489f3ca.jpg  frog_eye_leaf_spot"
      ]
     },
     "execution_count": 55,
     "metadata": {},
     "output_type": "execute_result"
    }
   ],
   "source": [
    "sample['labels'] = preds_dec\n",
    "sample.to_csv('submission.csv', index=False)\n",
    "sample"
   ]
  }
 ],
 "metadata": {
  "interpreter": {
   "hash": "542e5a904e1c75808135d19520dd15a652c4cca22780eb804bee7182041c3725"
  },
  "kernelspec": {
   "display_name": "Python 3.8.8 64-bit ('fastai': conda)",
   "name": "python3"
  },
  "language_info": {
   "codemirror_mode": {
    "name": "ipython",
    "version": 3
   },
   "file_extension": ".py",
   "mimetype": "text/x-python",
   "name": "python",
   "nbconvert_exporter": "python",
   "pygments_lexer": "ipython3",
   "version": "3.8.8"
  }
 },
 "nbformat": 4,
 "nbformat_minor": 5
}
